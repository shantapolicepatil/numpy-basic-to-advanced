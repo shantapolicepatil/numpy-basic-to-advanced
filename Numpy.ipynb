{
 "cells": [
  {
   "cell_type": "markdown",
   "id": "4292a98a-5471-4d68-aa5c-c551ab5bd913",
   "metadata": {},
   "source": [
    "Numpy - numerical python - fundamental package for scientific computing with python\n"
   ]
  },
  {
   "cell_type": "code",
   "execution_count": 3,
   "id": "b5ab2da3-a9b6-4b01-a21a-21b06b7cf94c",
   "metadata": {},
   "outputs": [],
   "source": [
    "import numpy as np # as is alias"
   ]
  },
  {
   "cell_type": "code",
   "execution_count": 5,
   "id": "0b3b4b69-8685-4b84-9acc-14c465d33fff",
   "metadata": {},
   "outputs": [],
   "source": [
    "list = [11,2,3,\"data\", 3+5j, True, 2.3]"
   ]
  },
  {
   "cell_type": "code",
   "execution_count": 6,
   "id": "f95a7c4a-ee4e-41a2-94f3-67ad15c36bbc",
   "metadata": {},
   "outputs": [
    {
     "data": {
      "text/plain": [
       "list"
      ]
     },
     "execution_count": 6,
     "metadata": {},
     "output_type": "execute_result"
    }
   ],
   "source": [
    "type (list) # it is heterogeneous, it stores different data types, numpy is faster than list"
   ]
  },
  {
   "cell_type": "markdown",
   "id": "264afff5-3c55-477d-8188-4968f0011e69",
   "metadata": {},
   "source": [
    "numpy stores the data in a numpy array\n",
    "array is container or data structure - used to store the same data types"
   ]
  },
  {
   "cell_type": "markdown",
   "id": "b6f275c4-a6b5-4342-be8a-78ac562fd821",
   "metadata": {},
   "source": [
    "why numpy ? <br>\n",
    "c is one of the fastest programming language and numpy is built by using c, numpy computation is fast<br>\n",
    "it is fast due to array since it stores homogeneous data <br>\n",
    "it is contigues memory location<br>\n"
   ]
  },
  {
   "cell_type": "code",
   "execution_count": 19,
   "id": "3c574015-a23d-481d-a5eb-11d6859346a8",
   "metadata": {},
   "outputs": [],
   "source": [
    "a = [1,2,3,4,5]"
   ]
  },
  {
   "cell_type": "code",
   "execution_count": 21,
   "id": "97fe5d8b-7006-45c3-a162-af4903a889b3",
   "metadata": {},
   "outputs": [],
   "source": [
    "a1 = np.array(a)"
   ]
  },
  {
   "cell_type": "code",
   "execution_count": 22,
   "id": "302969e6-5fd5-4a9a-aee4-17779b00fe7f",
   "metadata": {},
   "outputs": [
    {
     "data": {
      "text/plain": [
       "array([1, 2, 3, 4, 5])"
      ]
     },
     "execution_count": 22,
     "metadata": {},
     "output_type": "execute_result"
    }
   ],
   "source": [
    "a1"
   ]
  },
  {
   "cell_type": "code",
   "execution_count": 23,
   "id": "5efb7360-3f01-4830-808a-27649b76d597",
   "metadata": {},
   "outputs": [
    {
     "data": {
      "text/plain": [
       "numpy.ndarray"
      ]
     },
     "execution_count": 23,
     "metadata": {},
     "output_type": "execute_result"
    }
   ],
   "source": [
    "type(a1) # data type"
   ]
  },
  {
   "cell_type": "code",
   "execution_count": 25,
   "id": "6b7c0319-a80b-480c-9bd0-4cc2617e81a2",
   "metadata": {},
   "outputs": [
    {
     "data": {
      "text/plain": [
       "1"
      ]
     },
     "execution_count": 25,
     "metadata": {},
     "output_type": "execute_result"
    }
   ],
   "source": [
    "a1.ndim # dimension "
   ]
  },
  {
   "cell_type": "code",
   "execution_count": 26,
   "id": "b4a41f71-d456-4788-b17c-91e3769920d9",
   "metadata": {},
   "outputs": [
    {
     "data": {
      "text/plain": [
       "1"
      ]
     },
     "execution_count": 26,
     "metadata": {},
     "output_type": "execute_result"
    }
   ],
   "source": [
    "a1[0] # we can access the elements"
   ]
  },
  {
   "cell_type": "code",
   "execution_count": 27,
   "id": "823cae60-9830-4bc7-b3ad-ed6189438b2e",
   "metadata": {},
   "outputs": [],
   "source": [
    "a1[0] = 1000 # array is mutable , we can modify the elements"
   ]
  },
  {
   "cell_type": "code",
   "execution_count": 28,
   "id": "a6db6bfa-5e20-421c-a821-72a79fdf3cb5",
   "metadata": {},
   "outputs": [
    {
     "data": {
      "text/plain": [
       "array([1000,    2,    3,    4,    5])"
      ]
     },
     "execution_count": 28,
     "metadata": {},
     "output_type": "execute_result"
    }
   ],
   "source": [
    "a1"
   ]
  },
  {
   "cell_type": "code",
   "execution_count": 33,
   "id": "0dd4afb2-5bf0-4295-9f0d-8611230cf77e",
   "metadata": {},
   "outputs": [
    {
     "data": {
      "text/plain": [
       "array([0., 0., 0., 0., 0., 0.])"
      ]
     },
     "execution_count": 33,
     "metadata": {},
     "output_type": "execute_result"
    }
   ],
   "source": [
    "np.zeros(6) # it will give 6 zeroes"
   ]
  },
  {
   "cell_type": "code",
   "execution_count": 48,
   "id": "9ef78b19-14a1-4247-8016-4bbb9c2ea846",
   "metadata": {},
   "outputs": [],
   "source": [
    "s = np.zeros((3,3))"
   ]
  },
  {
   "cell_type": "code",
   "execution_count": 49,
   "id": "7ed380cc-13e1-4632-b80a-a29bc209996b",
   "metadata": {},
   "outputs": [
    {
     "data": {
      "text/plain": [
       "array([[0., 0., 0.],\n",
       "       [0., 0., 0.],\n",
       "       [0., 0., 0.]])"
      ]
     },
     "execution_count": 49,
     "metadata": {},
     "output_type": "execute_result"
    }
   ],
   "source": [
    "s"
   ]
  },
  {
   "cell_type": "code",
   "execution_count": 54,
   "id": "8288ca05-e160-403f-bc51-c9dd90016b34",
   "metadata": {},
   "outputs": [
    {
     "data": {
      "text/plain": [
       "2"
      ]
     },
     "execution_count": 54,
     "metadata": {},
     "output_type": "execute_result"
    }
   ],
   "source": [
    "s.ndim"
   ]
  },
  {
   "cell_type": "code",
   "execution_count": 55,
   "id": "01050080-6b0b-4973-a759-6f85c586146f",
   "metadata": {},
   "outputs": [],
   "source": [
    "s = np.zeros((1,3,3)) # we can add no dimension by adding 1"
   ]
  },
  {
   "cell_type": "code",
   "execution_count": 56,
   "id": "e6f6e465-fa62-4a6f-a5a1-e3c4971ad939",
   "metadata": {},
   "outputs": [
    {
     "data": {
      "text/plain": [
       "array([[[0., 0., 0.],\n",
       "        [0., 0., 0.],\n",
       "        [0., 0., 0.]]])"
      ]
     },
     "execution_count": 56,
     "metadata": {},
     "output_type": "execute_result"
    }
   ],
   "source": [
    "s"
   ]
  },
  {
   "cell_type": "code",
   "execution_count": 57,
   "id": "570135d6-2168-49c1-ad06-f8c03ecc295a",
   "metadata": {},
   "outputs": [],
   "source": [
    "s = np.zeros((1,1,3,3))"
   ]
  },
  {
   "cell_type": "code",
   "execution_count": 58,
   "id": "7002335d-f34c-42a5-8bed-fdec3bbb5d51",
   "metadata": {},
   "outputs": [
    {
     "data": {
      "text/plain": [
       "array([[[[0., 0., 0.],\n",
       "         [0., 0., 0.],\n",
       "         [0., 0., 0.]]]])"
      ]
     },
     "execution_count": 58,
     "metadata": {},
     "output_type": "execute_result"
    }
   ],
   "source": [
    "s"
   ]
  },
  {
   "cell_type": "code",
   "execution_count": 75,
   "id": "0201f2ee-0d05-43c3-85d2-fdf42b5f5b40",
   "metadata": {},
   "outputs": [
    {
     "data": {
      "text/plain": [
       "4"
      ]
     },
     "execution_count": 75,
     "metadata": {},
     "output_type": "execute_result"
    }
   ],
   "source": [
    "s.ndim"
   ]
  },
  {
   "cell_type": "code",
   "execution_count": 50,
   "id": "0466365d-25c4-4d29-a47c-33758a664a00",
   "metadata": {},
   "outputs": [
    {
     "data": {
      "text/plain": [
       "array([[8., 8., 8.],\n",
       "       [8., 8., 8.],\n",
       "       [8., 8., 8.]])"
      ]
     },
     "execution_count": 50,
     "metadata": {},
     "output_type": "execute_result"
    }
   ],
   "source": [
    "s + 8 # index addition"
   ]
  },
  {
   "cell_type": "code",
   "execution_count": 52,
   "id": "edb1fed8-8f6d-4e83-9951-89ed8aec3874",
   "metadata": {},
   "outputs": [
    {
     "data": {
      "text/plain": [
       "array([[-2., -2., -2.],\n",
       "       [-2., -2., -2.],\n",
       "       [-2., -2., -2.]])"
      ]
     },
     "execution_count": 52,
     "metadata": {},
     "output_type": "execute_result"
    }
   ],
   "source": [
    "s - 2 # index subsraction"
   ]
  },
  {
   "cell_type": "code",
   "execution_count": 53,
   "id": "dfa15707-5d70-4496-99db-8f97c20fb554",
   "metadata": {},
   "outputs": [
    {
     "data": {
      "text/plain": [
       "array([[0., 0., 0.],\n",
       "       [0., 0., 0.],\n",
       "       [0., 0., 0.]])"
      ]
     },
     "execution_count": 53,
     "metadata": {},
     "output_type": "execute_result"
    }
   ],
   "source": [
    "s * 3"
   ]
  },
  {
   "cell_type": "code",
   "execution_count": 59,
   "id": "bc69a6c7-e3a7-46ac-8ffb-7d9434ab6009",
   "metadata": {},
   "outputs": [
    {
     "data": {
      "text/plain": [
       "array([1., 1., 1.])"
      ]
     },
     "execution_count": 59,
     "metadata": {},
     "output_type": "execute_result"
    }
   ],
   "source": [
    "np.ones(3)"
   ]
  },
  {
   "cell_type": "code",
   "execution_count": 61,
   "id": "fc74e6ec-7ca3-424c-8fc3-e4d7821d35b2",
   "metadata": {},
   "outputs": [
    {
     "data": {
      "text/plain": [
       "array([[1., 1., 1., 1.],\n",
       "       [1., 1., 1., 1.],\n",
       "       [1., 1., 1., 1.]])"
      ]
     },
     "execution_count": 61,
     "metadata": {},
     "output_type": "execute_result"
    }
   ],
   "source": [
    "np.ones((3,4))"
   ]
  },
  {
   "cell_type": "code",
   "execution_count": 63,
   "id": "1fde3621-e82a-4341-972a-25efb5e09983",
   "metadata": {},
   "outputs": [],
   "source": [
    "v = np.ones((3,4), dtype = int) # it converts float into integer"
   ]
  },
  {
   "cell_type": "code",
   "execution_count": 64,
   "id": "44b0a4f7-6b40-4aa6-ad2d-d0e8d92d9bab",
   "metadata": {},
   "outputs": [
    {
     "data": {
      "text/plain": [
       "array([[1, 1, 1, 1],\n",
       "       [1, 1, 1, 1],\n",
       "       [1, 1, 1, 1]])"
      ]
     },
     "execution_count": 64,
     "metadata": {},
     "output_type": "execute_result"
    }
   ],
   "source": [
    "v"
   ]
  },
  {
   "cell_type": "code",
   "execution_count": 65,
   "id": "cfc846c3-8d03-4b1a-bad2-130d962d26a0",
   "metadata": {},
   "outputs": [
    {
     "data": {
      "text/plain": [
       "array([1, 1, 1, 1])"
      ]
     },
     "execution_count": 65,
     "metadata": {},
     "output_type": "execute_result"
    }
   ],
   "source": [
    "v[1]"
   ]
  },
  {
   "cell_type": "code",
   "execution_count": 66,
   "id": "856e4a04-81d9-44b4-9319-5087695f8b0b",
   "metadata": {},
   "outputs": [
    {
     "data": {
      "text/plain": [
       "1"
      ]
     },
     "execution_count": 66,
     "metadata": {},
     "output_type": "execute_result"
    }
   ],
   "source": [
    "v[2,3]"
   ]
  },
  {
   "cell_type": "code",
   "execution_count": 67,
   "id": "efc88fd8-3602-4048-affb-8bff95ba9ebd",
   "metadata": {},
   "outputs": [
    {
     "ename": "AttributeError",
     "evalue": "module 'numpy' has no attribute 'twos'",
     "output_type": "error",
     "traceback": [
      "\u001b[0;31m---------------------------------------------------------------------------\u001b[0m",
      "\u001b[0;31mAttributeError\u001b[0m                            Traceback (most recent call last)",
      "Cell \u001b[0;32mIn[67], line 1\u001b[0m\n\u001b[0;32m----> 1\u001b[0m \u001b[43mnp\u001b[49m\u001b[38;5;241;43m.\u001b[39;49m\u001b[43mtwos\u001b[49m(\u001b[38;5;241m3\u001b[39m)\n",
      "File \u001b[0;32m/opt/conda/lib/python3.10/site-packages/numpy/__init__.py:311\u001b[0m, in \u001b[0;36m__getattr__\u001b[0;34m(attr)\u001b[0m\n\u001b[1;32m    308\u001b[0m     \u001b[38;5;28;01mfrom\u001b[39;00m \u001b[38;5;21;01m.\u001b[39;00m\u001b[38;5;21;01mtesting\u001b[39;00m \u001b[38;5;28;01mimport\u001b[39;00m Tester\n\u001b[1;32m    309\u001b[0m     \u001b[38;5;28;01mreturn\u001b[39;00m Tester\n\u001b[0;32m--> 311\u001b[0m \u001b[38;5;28;01mraise\u001b[39;00m \u001b[38;5;167;01mAttributeError\u001b[39;00m(\u001b[38;5;124m\"\u001b[39m\u001b[38;5;124mmodule \u001b[39m\u001b[38;5;132;01m{!r}\u001b[39;00m\u001b[38;5;124m has no attribute \u001b[39m\u001b[38;5;124m\"\u001b[39m\n\u001b[1;32m    312\u001b[0m                      \u001b[38;5;124m\"\u001b[39m\u001b[38;5;132;01m{!r}\u001b[39;00m\u001b[38;5;124m\"\u001b[39m\u001b[38;5;241m.\u001b[39mformat(\u001b[38;5;18m__name__\u001b[39m, attr))\n",
      "\u001b[0;31mAttributeError\u001b[0m: module 'numpy' has no attribute 'twos'"
     ]
    }
   ],
   "source": [
    "np.twos(3) # does not exist"
   ]
  },
  {
   "cell_type": "code",
   "execution_count": 69,
   "id": "82fbf93e-2d4e-4401-b328-42dcb1534418",
   "metadata": {},
   "outputs": [],
   "source": [
    "z = np.array([[2,3],[3,2]])"
   ]
  },
  {
   "cell_type": "code",
   "execution_count": 70,
   "id": "bc98b5d8-6cb4-4f5e-aac9-eea04a24a20f",
   "metadata": {},
   "outputs": [
    {
     "data": {
      "text/plain": [
       "array([[2, 3],\n",
       "       [3, 2]])"
      ]
     },
     "execution_count": 70,
     "metadata": {},
     "output_type": "execute_result"
    }
   ],
   "source": [
    "z # we get two dimensional array"
   ]
  },
  {
   "cell_type": "code",
   "execution_count": 71,
   "id": "c918bf19-81f8-4aa0-8177-de3531911306",
   "metadata": {},
   "outputs": [
    {
     "data": {
      "text/plain": [
       "array([3, 2])"
      ]
     },
     "execution_count": 71,
     "metadata": {},
     "output_type": "execute_result"
    }
   ],
   "source": [
    "z[1] # we can access and it takes 1st row"
   ]
  },
  {
   "cell_type": "code",
   "execution_count": 72,
   "id": "2e7e1c51-4634-4e03-9f5e-5fe3dfa58f5c",
   "metadata": {},
   "outputs": [
    {
     "data": {
      "text/plain": [
       "array([2, 3])"
      ]
     },
     "execution_count": 72,
     "metadata": {},
     "output_type": "execute_result"
    }
   ],
   "source": [
    "z[0] # we can access and it takes 1st row"
   ]
  },
  {
   "cell_type": "code",
   "execution_count": 73,
   "id": "f4baa012-dbc9-4f1b-b48a-2f1e87d1ada0",
   "metadata": {},
   "outputs": [
    {
     "data": {
      "text/plain": [
       "2"
      ]
     },
     "execution_count": 73,
     "metadata": {},
     "output_type": "execute_result"
    }
   ],
   "source": [
    "z.ndim"
   ]
  },
  {
   "cell_type": "code",
   "execution_count": 79,
   "id": "1f2115dc-953f-4f86-8cad-8a3760a2e188",
   "metadata": {},
   "outputs": [
    {
     "data": {
      "text/plain": [
       "array([[ True, False, False],\n",
       "       [False,  True, False],\n",
       "       [False, False,  True]])"
      ]
     },
     "execution_count": 79,
     "metadata": {},
     "output_type": "execute_result"
    }
   ],
   "source": [
    "np.fromfunction((lambda a,j : a==j), (3,3))"
   ]
  },
  {
   "cell_type": "code",
   "execution_count": 80,
   "id": "894c0c1f-a40f-4d00-9b00-9b82980cec72",
   "metadata": {},
   "outputs": [
    {
     "data": {
      "text/plain": [
       "array([[ True, False],\n",
       "       [False,  True],\n",
       "       [False, False]])"
      ]
     },
     "execution_count": 80,
     "metadata": {},
     "output_type": "execute_result"
    }
   ],
   "source": [
    "np.fromfunction((lambda a,j : a==j), (3,2))"
   ]
  },
  {
   "cell_type": "code",
   "execution_count": 81,
   "id": "2057ee1c-d5c3-4738-8eda-1171980079f0",
   "metadata": {},
   "outputs": [
    {
     "data": {
      "text/plain": [
       "array([[ True, False, False, False],\n",
       "       [False,  True, False, False]])"
      ]
     },
     "execution_count": 81,
     "metadata": {},
     "output_type": "execute_result"
    }
   ],
   "source": [
    "np.fromfunction((lambda a,j : a == j), (2,4))"
   ]
  },
  {
   "cell_type": "code",
   "execution_count": 82,
   "id": "27e05ccd-7354-4331-8a31-aae7c8884d3a",
   "metadata": {},
   "outputs": [
    {
     "data": {
      "text/plain": [
       "array([[1., 0., 0.],\n",
       "       [0., 1., 0.],\n",
       "       [0., 0., 1.]])"
      ]
     },
     "execution_count": 82,
     "metadata": {},
     "output_type": "execute_result"
    }
   ],
   "source": [
    "np.eye(3) # return a 2d array with ones on the diagonal and zeros elsewhere"
   ]
  },
  {
   "cell_type": "code",
   "execution_count": 83,
   "id": "a1a1d4ea-2f91-435f-a85f-53ac5be931c1",
   "metadata": {},
   "outputs": [
    {
     "data": {
      "text/plain": [
       "array([[1., 0., 0., 0., 0.],\n",
       "       [0., 1., 0., 0., 0.],\n",
       "       [0., 0., 1., 0., 0.],\n",
       "       [0., 0., 0., 1., 0.],\n",
       "       [0., 0., 0., 0., 1.]])"
      ]
     },
     "execution_count": 83,
     "metadata": {},
     "output_type": "execute_result"
    }
   ],
   "source": [
    "np.eye(5)"
   ]
  },
  {
   "cell_type": "code",
   "execution_count": 84,
   "id": "f3c43402-2384-4ccf-880a-352f8d33f5dc",
   "metadata": {},
   "outputs": [
    {
     "data": {
      "text/plain": [
       "array([[1, 0, 0, 0, 0],\n",
       "       [0, 1, 0, 0, 0],\n",
       "       [0, 0, 1, 0, 0],\n",
       "       [0, 0, 0, 1, 0],\n",
       "       [0, 0, 0, 0, 1]])"
      ]
     },
     "execution_count": 84,
     "metadata": {},
     "output_type": "execute_result"
    }
   ],
   "source": [
    "np.eye(5, dtype = int) # it converts float into integer"
   ]
  },
  {
   "cell_type": "code",
   "execution_count": 86,
   "id": "fb1f7d69-31b0-439a-99b1-04bef1a07972",
   "metadata": {},
   "outputs": [
    {
     "data": {
      "text/plain": [
       "array([[0., 0.],\n",
       "       [0., 0.],\n",
       "       [0., 0.]])"
      ]
     },
     "execution_count": 86,
     "metadata": {},
     "output_type": "execute_result"
    }
   ],
   "source": [
    "np.empty((3,2))"
   ]
  },
  {
   "cell_type": "code",
   "execution_count": 88,
   "id": "fb10c76c-8865-4f85-a9b2-f3f45561eaf9",
   "metadata": {},
   "outputs": [
    {
     "data": {
      "text/plain": [
       "array([[1., 0., 0.],\n",
       "       [0., 1., 0.],\n",
       "       [0., 0., 1.]])"
      ]
     },
     "execution_count": 88,
     "metadata": {},
     "output_type": "execute_result"
    }
   ],
   "source": [
    "np.empty((3,3))"
   ]
  },
  {
   "cell_type": "markdown",
   "id": "82f26201-f303-4878-9145-45d4cec9c72a",
   "metadata": {},
   "source": [
    "random numbers related concept in numpy"
   ]
  },
  {
   "cell_type": "code",
   "execution_count": 89,
   "id": "0167b6b1-6505-43ec-a639-6850d0c26bb8",
   "metadata": {},
   "outputs": [],
   "source": [
    "import numpy as np"
   ]
  },
  {
   "cell_type": "code",
   "execution_count": 93,
   "id": "42467b4c-a29e-4f0e-a7ca-3c9b943fe65e",
   "metadata": {},
   "outputs": [
    {
     "data": {
      "text/plain": [
       "4"
      ]
     },
     "execution_count": 93,
     "metadata": {},
     "output_type": "execute_result"
    }
   ],
   "source": [
    "np.random.randint(1,5)"
   ]
  },
  {
   "cell_type": "code",
   "execution_count": 95,
   "id": "f239d507-74f4-4d2a-8b2b-685f83662ba3",
   "metadata": {},
   "outputs": [
    {
     "data": {
      "text/plain": [
       "array([0.42555675])"
      ]
     },
     "execution_count": 95,
     "metadata": {},
     "output_type": "execute_result"
    }
   ],
   "source": [
    "np.random.rand(1)"
   ]
  },
  {
   "cell_type": "code",
   "execution_count": 99,
   "id": "2a817a99-665a-476f-9aca-1705a13c4a67",
   "metadata": {},
   "outputs": [],
   "source": [
    "d = [1,2,3,4,5]"
   ]
  },
  {
   "cell_type": "code",
   "execution_count": 100,
   "id": "af992f4c-4433-4c41-b1bf-88c7e7f71531",
   "metadata": {},
   "outputs": [],
   "source": [
    "np.random.shuffle(d) # elements shuffled"
   ]
  },
  {
   "cell_type": "code",
   "execution_count": 101,
   "id": "3c121384-bc8f-4e91-9f62-fcd7f7193c0f",
   "metadata": {},
   "outputs": [
    {
     "data": {
      "text/plain": [
       "[5, 2, 1, 3, 4]"
      ]
     },
     "execution_count": 101,
     "metadata": {},
     "output_type": "execute_result"
    }
   ],
   "source": [
    "d"
   ]
  },
  {
   "cell_type": "code",
   "execution_count": 110,
   "id": "10ccac0e-ed55-4e47-8fae-717bdd6ce326",
   "metadata": {},
   "outputs": [],
   "source": [
    "arr = np.random.randint(1,6, size = (3,3))"
   ]
  },
  {
   "cell_type": "code",
   "execution_count": 111,
   "id": "570f3944-9066-4adb-986d-d6a263349b75",
   "metadata": {},
   "outputs": [
    {
     "data": {
      "text/plain": [
       "array([[3, 1, 2],\n",
       "       [4, 1, 1],\n",
       "       [1, 4, 3]])"
      ]
     },
     "execution_count": 111,
     "metadata": {},
     "output_type": "execute_result"
    }
   ],
   "source": [
    "arr"
   ]
  },
  {
   "cell_type": "code",
   "execution_count": 112,
   "id": "c8455142-a6d9-49a8-a825-52ec400b0434",
   "metadata": {},
   "outputs": [
    {
     "data": {
      "text/plain": [
       "2"
      ]
     },
     "execution_count": 112,
     "metadata": {},
     "output_type": "execute_result"
    }
   ],
   "source": [
    "arr.ndim"
   ]
  },
  {
   "cell_type": "code",
   "execution_count": 113,
   "id": "74483f36-62c0-4f72-80e1-55f620aca3bd",
   "metadata": {},
   "outputs": [
    {
     "data": {
      "text/plain": [
       "9"
      ]
     },
     "execution_count": 113,
     "metadata": {},
     "output_type": "execute_result"
    }
   ],
   "source": [
    "arr.size"
   ]
  },
  {
   "cell_type": "code",
   "execution_count": 114,
   "id": "a4d3c500-1f4a-48c5-9164-a50aded23f8b",
   "metadata": {},
   "outputs": [
    {
     "data": {
      "text/plain": [
       "(3, 3)"
      ]
     },
     "execution_count": 114,
     "metadata": {},
     "output_type": "execute_result"
    }
   ],
   "source": [
    "arr.shape"
   ]
  },
  {
   "cell_type": "code",
   "execution_count": 120,
   "id": "24e31a5a-a802-4e33-9f34-10c5ca3b2c0d",
   "metadata": {},
   "outputs": [],
   "source": [
    "arr2 = arr.reshape(1,3,3) # we can convert to 3 dimesional array"
   ]
  },
  {
   "cell_type": "code",
   "execution_count": 121,
   "id": "f23c40e1-0b85-4fa6-b2ac-4a239cf40194",
   "metadata": {},
   "outputs": [
    {
     "data": {
      "text/plain": [
       "array([[[3, 1, 2],\n",
       "        [4, 1, 1],\n",
       "        [1, 4, 3]]])"
      ]
     },
     "execution_count": 121,
     "metadata": {},
     "output_type": "execute_result"
    }
   ],
   "source": [
    "arr2"
   ]
  },
  {
   "cell_type": "code",
   "execution_count": 122,
   "id": "74294d88-3cc1-4b81-87ef-6f576543579b",
   "metadata": {},
   "outputs": [
    {
     "data": {
      "text/plain": [
       "3"
      ]
     },
     "execution_count": 122,
     "metadata": {},
     "output_type": "execute_result"
    }
   ],
   "source": [
    "arr2.ndim"
   ]
  },
  {
   "cell_type": "code",
   "execution_count": 123,
   "id": "5fa24e4e-b527-4094-9cb9-606a3328e7fe",
   "metadata": {},
   "outputs": [],
   "source": [
    "arr = np.random.randint(1,6, size = (3,4))"
   ]
  },
  {
   "cell_type": "code",
   "execution_count": 124,
   "id": "0e445ee4-fd31-4d7b-9fd2-fffd919733aa",
   "metadata": {},
   "outputs": [
    {
     "data": {
      "text/plain": [
       "array([[4, 2, 2, 3],\n",
       "       [1, 5, 5, 1],\n",
       "       [3, 2, 3, 3]])"
      ]
     },
     "execution_count": 124,
     "metadata": {},
     "output_type": "execute_result"
    }
   ],
   "source": [
    "arr"
   ]
  },
  {
   "cell_type": "markdown",
   "id": "4c666b6b-d83a-4470-8d14-0772f7c6aa22",
   "metadata": {},
   "source": [
    "reshape"
   ]
  },
  {
   "cell_type": "code",
   "execution_count": 125,
   "id": "544e191a-2f24-42c3-af7e-68252fe00583",
   "metadata": {},
   "outputs": [
    {
     "data": {
      "text/plain": [
       "array([[4, 2, 2, 3, 1, 5],\n",
       "       [5, 1, 3, 2, 3, 3]])"
      ]
     },
     "execution_count": 125,
     "metadata": {},
     "output_type": "execute_result"
    }
   ],
   "source": [
    "arr.reshape(2,6)"
   ]
  },
  {
   "cell_type": "code",
   "execution_count": 126,
   "id": "fa4eba32-e02b-48bf-8e2e-9945b71e685b",
   "metadata": {},
   "outputs": [
    {
     "data": {
      "text/plain": [
       "array([[4, 2, 2, 3, 1, 5],\n",
       "       [5, 1, 3, 2, 3, 3]])"
      ]
     },
     "execution_count": 126,
     "metadata": {},
     "output_type": "execute_result"
    }
   ],
   "source": [
    "arr.reshape(2,-1)"
   ]
  },
  {
   "cell_type": "code",
   "execution_count": 127,
   "id": "87987752-c228-45b1-945e-293464a3447e",
   "metadata": {},
   "outputs": [
    {
     "data": {
      "text/plain": [
       "array([[4, 2, 2, 3, 1, 5],\n",
       "       [5, 1, 3, 2, 3, 3]])"
      ]
     },
     "execution_count": 127,
     "metadata": {},
     "output_type": "execute_result"
    }
   ],
   "source": [
    "arr.reshape(-1,6)"
   ]
  },
  {
   "cell_type": "code",
   "execution_count": 128,
   "id": "37e4422e-a89b-49e6-bb8f-b186838c15d3",
   "metadata": {},
   "outputs": [
    {
     "data": {
      "text/plain": [
       "array([[4, 2, 2, 3],\n",
       "       [1, 5, 5, 1],\n",
       "       [3, 2, 3, 3]])"
      ]
     },
     "execution_count": 128,
     "metadata": {},
     "output_type": "execute_result"
    }
   ],
   "source": [
    "arr.reshape(12,1).base # if we want to know the original array"
   ]
  },
  {
   "cell_type": "code",
   "execution_count": 129,
   "id": "83525d24-cfb1-4ae5-aae8-532cc4f19104",
   "metadata": {},
   "outputs": [
    {
     "data": {
      "text/plain": [
       "array([[4, 2, 2, 3],\n",
       "       [1, 5, 5, 1],\n",
       "       [3, 2, 3, 3]])"
      ]
     },
     "execution_count": 129,
     "metadata": {},
     "output_type": "execute_result"
    }
   ],
   "source": [
    "arr"
   ]
  },
  {
   "cell_type": "code",
   "execution_count": 130,
   "id": "8451113c-91b8-429b-9651-f6393177e8cc",
   "metadata": {},
   "outputs": [
    {
     "data": {
      "text/plain": [
       "array([[[[4, 2, 2, 3],\n",
       "         [1, 5, 5, 1],\n",
       "         [3, 2, 3, 3]]]])"
      ]
     },
     "execution_count": 130,
     "metadata": {},
     "output_type": "execute_result"
    }
   ],
   "source": [
    "arr.reshape(1,1,3,4)"
   ]
  },
  {
   "cell_type": "code",
   "execution_count": 133,
   "id": "3a6dd23f-10b1-4cd1-896f-152edb8330be",
   "metadata": {},
   "outputs": [
    {
     "data": {
      "text/plain": [
       "array([[[4, 2, 2],\n",
       "        [3, 1, 5]],\n",
       "\n",
       "       [[5, 1, 3],\n",
       "        [2, 3, 3]]])"
      ]
     },
     "execution_count": 133,
     "metadata": {},
     "output_type": "execute_result"
    }
   ],
   "source": [
    "arr.reshape(2,2,3)"
   ]
  },
  {
   "cell_type": "code",
   "execution_count": 134,
   "id": "f4d843a5-af4c-4405-9e76-13075847f369",
   "metadata": {},
   "outputs": [
    {
     "data": {
      "text/plain": [
       "array([[[4, 2],\n",
       "        [2, 3]],\n",
       "\n",
       "       [[1, 5],\n",
       "        [5, 1]],\n",
       "\n",
       "       [[3, 2],\n",
       "        [3, 3]]])"
      ]
     },
     "execution_count": 134,
     "metadata": {},
     "output_type": "execute_result"
    }
   ],
   "source": [
    "arr.reshape(3,2,2)"
   ]
  },
  {
   "cell_type": "code",
   "execution_count": 135,
   "id": "c95cc367-c612-45a8-95fc-7e9b0ec2240c",
   "metadata": {},
   "outputs": [],
   "source": [
    "arrs = np.random.randint(1,10,(5,6))"
   ]
  },
  {
   "cell_type": "code",
   "execution_count": 136,
   "id": "d93a79f0-3233-431f-b147-d3d82ba385b0",
   "metadata": {},
   "outputs": [
    {
     "data": {
      "text/plain": [
       "array([[3, 2, 4, 6, 9, 2],\n",
       "       [9, 8, 9, 2, 1, 6],\n",
       "       [5, 2, 6, 5, 8, 7],\n",
       "       [1, 1, 3, 5, 6, 9],\n",
       "       [9, 8, 6, 2, 2, 2]])"
      ]
     },
     "execution_count": 136,
     "metadata": {},
     "output_type": "execute_result"
    }
   ],
   "source": [
    "arrs"
   ]
  },
  {
   "cell_type": "code",
   "execution_count": 137,
   "id": "12d131fe-ce8a-424c-b8ad-2ed9c5e7bc80",
   "metadata": {},
   "outputs": [
    {
     "data": {
      "text/plain": [
       "array([[ True, False,  True,  True,  True, False],\n",
       "       [ True,  True,  True, False, False,  True],\n",
       "       [ True, False,  True,  True,  True,  True],\n",
       "       [False, False,  True,  True,  True,  True],\n",
       "       [ True,  True,  True, False, False, False]])"
      ]
     },
     "execution_count": 137,
     "metadata": {},
     "output_type": "execute_result"
    }
   ],
   "source": [
    "arrs>2"
   ]
  },
  {
   "cell_type": "code",
   "execution_count": 138,
   "id": "27bc34d8-17ca-4320-9b59-d4fac52d596a",
   "metadata": {},
   "outputs": [
    {
     "data": {
      "text/plain": [
       "array([[ True,  True, False, False, False,  True],\n",
       "       [False, False, False,  True,  True, False],\n",
       "       [False,  True, False, False, False, False],\n",
       "       [ True,  True,  True, False, False, False],\n",
       "       [False, False, False,  True,  True,  True]])"
      ]
     },
     "execution_count": 138,
     "metadata": {},
     "output_type": "execute_result"
    }
   ],
   "source": [
    "arrs<4"
   ]
  },
  {
   "cell_type": "code",
   "execution_count": 139,
   "id": "4a91cfd6-be0b-482d-a70f-650222d5d2aa",
   "metadata": {},
   "outputs": [
    {
     "data": {
      "text/plain": [
       "(5, 6)"
      ]
     },
     "execution_count": 139,
     "metadata": {},
     "output_type": "execute_result"
    }
   ],
   "source": [
    "arrs.shape"
   ]
  },
  {
   "cell_type": "code",
   "execution_count": 140,
   "id": "cb773d3a-80c2-4918-9d9b-7ac7aa6b5626",
   "metadata": {},
   "outputs": [
    {
     "data": {
      "text/plain": [
       "30"
      ]
     },
     "execution_count": 140,
     "metadata": {},
     "output_type": "execute_result"
    }
   ],
   "source": [
    "arrs.size"
   ]
  },
  {
   "cell_type": "code",
   "execution_count": 141,
   "id": "9693fb45-3cd6-4ac3-9ff3-3d8083a51215",
   "metadata": {},
   "outputs": [
    {
     "data": {
      "text/plain": [
       "array([4, 6, 9, 9, 8, 9, 6, 5, 6, 5, 8, 7, 5, 6, 9, 9, 8, 6])"
      ]
     },
     "execution_count": 141,
     "metadata": {},
     "output_type": "execute_result"
    }
   ],
   "source": [
    "arrs[arrs>3]"
   ]
  },
  {
   "cell_type": "code",
   "execution_count": 142,
   "id": "6df4aa61-a911-4c74-8bef-d547e457dd23",
   "metadata": {},
   "outputs": [
    {
     "data": {
      "text/plain": [
       "array([2, 2, 2, 1, 2, 1, 1, 2, 2, 2])"
      ]
     },
     "execution_count": 142,
     "metadata": {},
     "output_type": "execute_result"
    }
   ],
   "source": [
    "arrs[arrs<=2]"
   ]
  },
  {
   "cell_type": "code",
   "execution_count": 143,
   "id": "82bbcd12-962c-4331-a166-08b026a6d050",
   "metadata": {},
   "outputs": [
    {
     "data": {
      "text/plain": [
       "array([6, 9, 9, 8, 9, 6, 5, 6, 5, 8, 7, 5, 6, 9, 9, 8, 6])"
      ]
     },
     "execution_count": 143,
     "metadata": {},
     "output_type": "execute_result"
    }
   ],
   "source": [
    "arrs[arrs>=5]"
   ]
  },
  {
   "cell_type": "code",
   "execution_count": 145,
   "id": "222c4fab-2d96-49e7-8fbe-a4e29ef08a3b",
   "metadata": {},
   "outputs": [
    {
     "data": {
      "text/plain": [
       "array([3, 2, 4, 6, 9, 2])"
      ]
     },
     "execution_count": 145,
     "metadata": {},
     "output_type": "execute_result"
    }
   ],
   "source": [
    "arrs[0]"
   ]
  },
  {
   "cell_type": "code",
   "execution_count": 146,
   "id": "071c920a-cd5a-4d81-b5d7-273770a72ba9",
   "metadata": {},
   "outputs": [
    {
     "data": {
      "text/plain": [
       "4"
      ]
     },
     "execution_count": 146,
     "metadata": {},
     "output_type": "execute_result"
    }
   ],
   "source": [
    "arrs[0][2]"
   ]
  },
  {
   "cell_type": "code",
   "execution_count": 147,
   "id": "14bf3466-8b25-420f-8a20-70f7152e3033",
   "metadata": {},
   "outputs": [
    {
     "data": {
      "text/plain": [
       "array([[3, 2, 4, 6, 9, 2],\n",
       "       [9, 8, 9, 2, 1, 6],\n",
       "       [5, 2, 6, 5, 8, 7]])"
      ]
     },
     "execution_count": 147,
     "metadata": {},
     "output_type": "execute_result"
    }
   ],
   "source": [
    "arrs[0:3]"
   ]
  },
  {
   "cell_type": "code",
   "execution_count": 148,
   "id": "ceb7f5dc-948b-42ff-a305-2929651c2768",
   "metadata": {},
   "outputs": [
    {
     "data": {
      "text/plain": [
       "array([[5, 2, 6, 5, 8, 7]])"
      ]
     },
     "execution_count": 148,
     "metadata": {},
     "output_type": "execute_result"
    }
   ],
   "source": [
    "arrs[2:3]"
   ]
  },
  {
   "cell_type": "code",
   "execution_count": 149,
   "id": "5cdae4b0-6c67-4a57-97c3-73a7a5a17b69",
   "metadata": {},
   "outputs": [
    {
     "data": {
      "text/plain": [
       "array([[3, 2, 4, 6, 9, 2],\n",
       "       [9, 8, 9, 2, 1, 6],\n",
       "       [5, 2, 6, 5, 8, 7],\n",
       "       [1, 1, 3, 5, 6, 9]])"
      ]
     },
     "execution_count": 149,
     "metadata": {},
     "output_type": "execute_result"
    }
   ],
   "source": [
    "arrs[0:4]"
   ]
  },
  {
   "cell_type": "code",
   "execution_count": 150,
   "id": "88b9083a-0598-42c1-bedf-eabe5c089412",
   "metadata": {},
   "outputs": [
    {
     "data": {
      "text/plain": [
       "array([[3, 4],\n",
       "       [9, 9],\n",
       "       [5, 6],\n",
       "       [1, 3]])"
      ]
     },
     "execution_count": 150,
     "metadata": {},
     "output_type": "execute_result"
    }
   ],
   "source": [
    "arrs[0:4,[0,2]]"
   ]
  },
  {
   "cell_type": "code",
   "execution_count": 152,
   "id": "62543470-4488-481c-bd26-08832898aefd",
   "metadata": {},
   "outputs": [],
   "source": [
    "r  = np.random.randint(1,4,(3,4))"
   ]
  },
  {
   "cell_type": "code",
   "execution_count": 153,
   "id": "08d8eab1-15a6-4878-a944-c20d3afa616e",
   "metadata": {},
   "outputs": [
    {
     "data": {
      "text/plain": [
       "array([[2, 2, 3, 1],\n",
       "       [2, 2, 1, 2],\n",
       "       [1, 3, 3, 1]])"
      ]
     },
     "execution_count": 153,
     "metadata": {},
     "output_type": "execute_result"
    }
   ],
   "source": [
    "r"
   ]
  },
  {
   "cell_type": "code",
   "execution_count": 155,
   "id": "91798e4f-c0fa-44e6-a385-be7c5a0ef55b",
   "metadata": {},
   "outputs": [
    {
     "data": {
      "text/plain": [
       "array([2, 2, 3, 1, 2, 2, 1, 2, 1, 3, 3, 1])"
      ]
     },
     "execution_count": 155,
     "metadata": {},
     "output_type": "execute_result"
    }
   ],
   "source": [
    "r.flatten()"
   ]
  },
  {
   "cell_type": "code",
   "execution_count": 156,
   "id": "e22f99cd-2e28-4be8-82d0-886c03863414",
   "metadata": {},
   "outputs": [
    {
     "data": {
      "text/plain": [
       "array([[[2, 2, 3, 1],\n",
       "        [2, 2, 1, 2],\n",
       "        [1, 3, 3, 1]]])"
      ]
     },
     "execution_count": 156,
     "metadata": {},
     "output_type": "execute_result"
    }
   ],
   "source": [
    "np.expand_dims(r,axis = 0)"
   ]
  },
  {
   "cell_type": "code",
   "execution_count": 157,
   "id": "649a6708-7181-4a6c-9e44-28691704f5b0",
   "metadata": {},
   "outputs": [
    {
     "data": {
      "text/plain": [
       "array([[[2, 2, 3, 1]],\n",
       "\n",
       "       [[2, 2, 1, 2]],\n",
       "\n",
       "       [[1, 3, 3, 1]]])"
      ]
     },
     "execution_count": 157,
     "metadata": {},
     "output_type": "execute_result"
    }
   ],
   "source": [
    "np.expand_dims(r, axis = 1)"
   ]
  },
  {
   "cell_type": "code",
   "execution_count": 159,
   "id": "819cac9e-fd66-4cfe-9864-1a90c65ad5da",
   "metadata": {},
   "outputs": [],
   "source": [
    "c = np.array([1,2,3])"
   ]
  },
  {
   "cell_type": "code",
   "execution_count": 160,
   "id": "e1ceb039-500b-4cac-9087-f6e76477bedd",
   "metadata": {},
   "outputs": [
    {
     "data": {
      "text/plain": [
       "array([1, 2, 3])"
      ]
     },
     "execution_count": 160,
     "metadata": {},
     "output_type": "execute_result"
    }
   ],
   "source": [
    "c"
   ]
  },
  {
   "cell_type": "code",
   "execution_count": 161,
   "id": "cdf7ab9b-d932-41e3-b386-03d9558f01f1",
   "metadata": {},
   "outputs": [
    {
     "data": {
      "text/plain": [
       "array([[1],\n",
       "       [2],\n",
       "       [3]])"
      ]
     },
     "execution_count": 161,
     "metadata": {},
     "output_type": "execute_result"
    }
   ],
   "source": [
    "np.expand_dims(c, axis = 1)"
   ]
  },
  {
   "cell_type": "code",
   "execution_count": 162,
   "id": "f06bde33-538f-4bdc-b52c-8be55ad74129",
   "metadata": {},
   "outputs": [
    {
     "data": {
      "text/plain": [
       "array([[1, 2, 3]])"
      ]
     },
     "execution_count": 162,
     "metadata": {},
     "output_type": "execute_result"
    }
   ],
   "source": [
    "np.expand_dims(c, axis = 0 )"
   ]
  },
  {
   "cell_type": "code",
   "execution_count": 163,
   "id": "4e847df5-ee6c-427a-9aad-4582f2a1b2e7",
   "metadata": {},
   "outputs": [
    {
     "data": {
      "text/plain": [
       "array([1, 1, 1, 2, 2, 2, 3, 3, 3])"
      ]
     },
     "execution_count": 163,
     "metadata": {},
     "output_type": "execute_result"
    }
   ],
   "source": [
    "np.repeat(c,3)"
   ]
  },
  {
   "cell_type": "code",
   "execution_count": 164,
   "id": "fa44ddd0-a0db-4805-8ca2-e58e1b0c9a55",
   "metadata": {},
   "outputs": [
    {
     "data": {
      "text/plain": [
       "array([2, 2, 2, 2, 2, 2, 2, 2, 2, 2, 2, 2, 2, 2, 2, 2, 2, 2, 2, 2, 2, 2,\n",
       "       2, 2, 2, 2, 2, 2, 2, 2, 2, 2, 2, 2, 2, 2, 2, 2, 2, 2, 2, 2, 2, 2,\n",
       "       2, 2, 2, 2, 2, 2, 2, 2, 2, 2, 2, 2, 2, 2, 2, 2, 3, 3, 3, 3, 3, 3,\n",
       "       3, 3, 3, 3, 3, 3, 3, 3, 3, 3, 3, 3, 3, 3, 3, 3, 3, 3, 3, 3, 3, 3,\n",
       "       3, 3, 1, 1, 1, 1, 1, 1, 1, 1, 1, 1, 1, 1, 1, 1, 1, 1, 1, 1, 1, 1,\n",
       "       1, 1, 1, 1, 1, 1, 1, 1, 1, 1, 2, 2, 2, 2, 2, 2, 2, 2, 2, 2, 2, 2,\n",
       "       2, 2, 2, 2, 2, 2, 2, 2, 2, 2, 2, 2, 2, 2, 2, 2, 2, 2, 2, 2, 2, 2,\n",
       "       2, 2, 2, 2, 2, 2, 2, 2, 2, 2, 2, 2, 2, 2, 2, 2, 2, 2, 2, 2, 2, 2,\n",
       "       2, 2, 2, 2, 1, 1, 1, 1, 1, 1, 1, 1, 1, 1, 1, 1, 1, 1, 1, 1, 1, 1,\n",
       "       1, 1, 1, 1, 1, 1, 1, 1, 1, 1, 1, 1, 2, 2, 2, 2, 2, 2, 2, 2, 2, 2,\n",
       "       2, 2, 2, 2, 2, 2, 2, 2, 2, 2, 2, 2, 2, 2, 2, 2, 2, 2, 2, 2, 1, 1,\n",
       "       1, 1, 1, 1, 1, 1, 1, 1, 1, 1, 1, 1, 1, 1, 1, 1, 1, 1, 1, 1, 1, 1,\n",
       "       1, 1, 1, 1, 1, 1, 3, 3, 3, 3, 3, 3, 3, 3, 3, 3, 3, 3, 3, 3, 3, 3,\n",
       "       3, 3, 3, 3, 3, 3, 3, 3, 3, 3, 3, 3, 3, 3, 3, 3, 3, 3, 3, 3, 3, 3,\n",
       "       3, 3, 3, 3, 3, 3, 3, 3, 3, 3, 3, 3, 3, 3, 3, 3, 3, 3, 3, 3, 3, 3,\n",
       "       1, 1, 1, 1, 1, 1, 1, 1, 1, 1, 1, 1, 1, 1, 1, 1, 1, 1, 1, 1, 1, 1,\n",
       "       1, 1, 1, 1, 1, 1, 1, 1])"
      ]
     },
     "execution_count": 164,
     "metadata": {},
     "output_type": "execute_result"
    }
   ],
   "source": [
    "np.repeat(r,30)"
   ]
  },
  {
   "cell_type": "code",
   "execution_count": 165,
   "id": "e7a42769-d495-4d99-b78f-4e5ce3e94dd2",
   "metadata": {},
   "outputs": [
    {
     "data": {
      "text/plain": [
       "array([[2, 2, 2, 2, 2, 2, 2, 2, 2, 2, 2, 2, 2, 2, 2, 2, 2, 2, 2, 2, 3, 3,\n",
       "        3, 3, 3, 3, 3, 3, 3, 3, 1, 1, 1, 1, 1, 1, 1, 1, 1, 1],\n",
       "       [2, 2, 2, 2, 2, 2, 2, 2, 2, 2, 2, 2, 2, 2, 2, 2, 2, 2, 2, 2, 1, 1,\n",
       "        1, 1, 1, 1, 1, 1, 1, 1, 2, 2, 2, 2, 2, 2, 2, 2, 2, 2],\n",
       "       [1, 1, 1, 1, 1, 1, 1, 1, 1, 1, 3, 3, 3, 3, 3, 3, 3, 3, 3, 3, 3, 3,\n",
       "        3, 3, 3, 3, 3, 3, 3, 3, 1, 1, 1, 1, 1, 1, 1, 1, 1, 1]])"
      ]
     },
     "execution_count": 165,
     "metadata": {},
     "output_type": "execute_result"
    }
   ],
   "source": [
    "np.repeat(r,10, axis = 1)"
   ]
  },
  {
   "cell_type": "markdown",
   "id": "60fade67-f4de-4247-a352-159e397b9d95",
   "metadata": {},
   "source": [
    "operation on numpy string array"
   ]
  },
  {
   "cell_type": "code",
   "execution_count": 166,
   "id": "9ebdde6e-1ae7-4cf6-bf17-93e8b9f1d7e4",
   "metadata": {},
   "outputs": [],
   "source": [
    "q = np.array(['data', 'science'])"
   ]
  },
  {
   "cell_type": "code",
   "execution_count": 167,
   "id": "d622b370-c9be-4af7-bdfa-162017bfe50b",
   "metadata": {},
   "outputs": [
    {
     "data": {
      "text/plain": [
       "array(['data', 'science'], dtype='<U7')"
      ]
     },
     "execution_count": 167,
     "metadata": {},
     "output_type": "execute_result"
    }
   ],
   "source": [
    "q"
   ]
  },
  {
   "cell_type": "code",
   "execution_count": 169,
   "id": "7522ebee-3629-43c5-ad68-ad162fa5a9ba",
   "metadata": {},
   "outputs": [
    {
     "data": {
      "text/plain": [
       "array(['DATA', 'SCIENCE'], dtype='<U7')"
      ]
     },
     "execution_count": 169,
     "metadata": {},
     "output_type": "execute_result"
    }
   ],
   "source": [
    "np.char.upper(q)"
   ]
  },
  {
   "cell_type": "code",
   "execution_count": 170,
   "id": "8f3b6b1f-636a-4d4b-81b9-47ceab5798c2",
   "metadata": {},
   "outputs": [
    {
     "data": {
      "text/plain": [
       "array(['data', 'science'], dtype='<U7')"
      ]
     },
     "execution_count": 170,
     "metadata": {},
     "output_type": "execute_result"
    }
   ],
   "source": [
    "np.char.lower(q)"
   ]
  },
  {
   "cell_type": "code",
   "execution_count": 171,
   "id": "c0adfc32-d476-4991-8c3b-b621427dad4f",
   "metadata": {},
   "outputs": [
    {
     "data": {
      "text/plain": [
       "array(['Data', 'Science'], dtype='<U7')"
      ]
     },
     "execution_count": 171,
     "metadata": {},
     "output_type": "execute_result"
    }
   ],
   "source": [
    "np.char.capitalize(q)"
   ]
  },
  {
   "cell_type": "markdown",
   "id": "d1fc7afe-fe3b-4829-b5fd-bbaf9078015b",
   "metadata": {},
   "source": [
    "mathematical function"
   ]
  },
  {
   "cell_type": "code",
   "execution_count": 181,
   "id": "dec2137c-ffa2-4390-8d39-8893227ddccc",
   "metadata": {},
   "outputs": [],
   "source": [
    "f = np.array([2,5,6,8,9])"
   ]
  },
  {
   "cell_type": "code",
   "execution_count": 182,
   "id": "938cfa18-b96d-4e1c-a3a0-4e3f28859540",
   "metadata": {},
   "outputs": [
    {
     "data": {
      "text/plain": [
       "array([ 0.90929743, -0.95892427, -0.2794155 ,  0.98935825,  0.41211849])"
      ]
     },
     "execution_count": 182,
     "metadata": {},
     "output_type": "execute_result"
    }
   ],
   "source": [
    "np.sin(f)"
   ]
  },
  {
   "cell_type": "code",
   "execution_count": 183,
   "id": "b905d053-b5b4-4321-8c8c-7339d3551b73",
   "metadata": {},
   "outputs": [
    {
     "data": {
      "text/plain": [
       "array([-0.41614684,  0.28366219,  0.96017029, -0.14550003, -0.91113026])"
      ]
     },
     "execution_count": 183,
     "metadata": {},
     "output_type": "execute_result"
    }
   ],
   "source": [
    "np.cos(f)"
   ]
  },
  {
   "cell_type": "code",
   "execution_count": 184,
   "id": "f8f9c56f-bb85-43fd-a828-826d3a08521a",
   "metadata": {},
   "outputs": [
    {
     "data": {
      "text/plain": [
       "array([-2.18503986, -3.38051501, -0.29100619, -6.79971146, -0.45231566])"
      ]
     },
     "execution_count": 184,
     "metadata": {},
     "output_type": "execute_result"
    }
   ],
   "source": [
    "np.tan(f)"
   ]
  },
  {
   "cell_type": "code",
   "execution_count": 185,
   "id": "8a6ae15c-e34e-4c26-ac74-61cbce30b5ea",
   "metadata": {},
   "outputs": [
    {
     "data": {
      "text/plain": [
       "6.0"
      ]
     },
     "execution_count": 185,
     "metadata": {},
     "output_type": "execute_result"
    }
   ],
   "source": [
    "np.mean(f)"
   ]
  },
  {
   "cell_type": "code",
   "execution_count": 186,
   "id": "068943ed-feeb-4668-bdc1-a612fb5c8a39",
   "metadata": {},
   "outputs": [
    {
     "data": {
      "text/plain": [
       "6.0"
      ]
     },
     "execution_count": 186,
     "metadata": {},
     "output_type": "execute_result"
    }
   ],
   "source": [
    "np.median(f)"
   ]
  },
  {
   "cell_type": "code",
   "execution_count": 187,
   "id": "1fc84f34-225d-42c4-ad1a-a17a1fcf708e",
   "metadata": {},
   "outputs": [
    {
     "data": {
      "text/plain": [
       "array([7.38905610e+00, 1.48413159e+02, 4.03428793e+02, 2.98095799e+03,\n",
       "       8.10308393e+03])"
      ]
     },
     "execution_count": 187,
     "metadata": {},
     "output_type": "execute_result"
    }
   ],
   "source": [
    "np.exp(f)"
   ]
  },
  {
   "cell_type": "code",
   "execution_count": 189,
   "id": "3805c3a3-1ae2-484d-93c6-a61fdba44f45",
   "metadata": {},
   "outputs": [
    {
     "data": {
      "text/plain": [
       "array([0.30103   , 0.69897   , 0.77815125, 0.90308999, 0.95424251])"
      ]
     },
     "execution_count": 189,
     "metadata": {},
     "output_type": "execute_result"
    }
   ],
   "source": [
    "np.log10(f)"
   ]
  },
  {
   "cell_type": "code",
   "execution_count": 192,
   "id": "4cd5d85b-3fe5-4a72-92b9-95d48d9ddaae",
   "metadata": {},
   "outputs": [
    {
     "data": {
      "text/plain": [
       "array([  8, 125, 216, 512, 729])"
      ]
     },
     "execution_count": 192,
     "metadata": {},
     "output_type": "execute_result"
    }
   ],
   "source": [
    "np.power(f,3)"
   ]
  },
  {
   "cell_type": "code",
   "execution_count": 193,
   "id": "0690c25e-391c-465e-8ebe-5cc0caee733c",
   "metadata": {},
   "outputs": [
    {
     "data": {
      "text/plain": [
       "9"
      ]
     },
     "execution_count": 193,
     "metadata": {},
     "output_type": "execute_result"
    }
   ],
   "source": [
    "np.max(f)"
   ]
  },
  {
   "cell_type": "code",
   "execution_count": 194,
   "id": "6d5d84c4-c24f-4476-89ad-6f2a58c4ac54",
   "metadata": {},
   "outputs": [
    {
     "data": {
      "text/plain": [
       "2"
      ]
     },
     "execution_count": 194,
     "metadata": {},
     "output_type": "execute_result"
    }
   ],
   "source": [
    "np.min(f)"
   ]
  },
  {
   "cell_type": "code",
   "execution_count": 195,
   "id": "c6248005-1c0e-4c85-aa96-d0e8399e8b03",
   "metadata": {},
   "outputs": [
    {
     "data": {
      "text/plain": [
       "array([ 4,  7,  8, 10, 11])"
      ]
     },
     "execution_count": 195,
     "metadata": {},
     "output_type": "execute_result"
    }
   ],
   "source": [
    "np.add(f,2)"
   ]
  },
  {
   "cell_type": "code",
   "execution_count": 199,
   "id": "c5e9b36f-ea36-4009-81b7-0b86bc82b79e",
   "metadata": {},
   "outputs": [
    {
     "data": {
      "text/plain": [
       "array([ 4, 10, 12, 16, 18])"
      ]
     },
     "execution_count": 199,
     "metadata": {},
     "output_type": "execute_result"
    }
   ],
   "source": [
    "np.multiply(f,2)"
   ]
  },
  {
   "cell_type": "code",
   "execution_count": 201,
   "id": "9d3ec4e2-472a-4502-b5c0-80397a03a787",
   "metadata": {},
   "outputs": [
    {
     "data": {
      "text/plain": [
       "array([2, 2, 0, 2, 0])"
      ]
     },
     "execution_count": 201,
     "metadata": {},
     "output_type": "execute_result"
    }
   ],
   "source": [
    "np.mod(f,3) # return element wise reminder"
   ]
  },
  {
   "cell_type": "code",
   "execution_count": 202,
   "id": "d622bfd0-1a62-4c2b-be3d-5a51ae64b52e",
   "metadata": {},
   "outputs": [
    {
     "data": {
      "text/plain": [
       "array([2, 5, 6, 8, 9])"
      ]
     },
     "execution_count": 202,
     "metadata": {},
     "output_type": "execute_result"
    }
   ],
   "source": [
    "np.sort(f)"
   ]
  },
  {
   "cell_type": "code",
   "execution_count": null,
   "id": "77c08ae8-c39f-4533-986c-fd6cc2fc692f",
   "metadata": {},
   "outputs": [],
   "source": []
  }
 ],
 "metadata": {
  "kernelspec": {
   "display_name": "Python 3 (ipykernel)",
   "language": "python",
   "name": "python3"
  },
  "language_info": {
   "codemirror_mode": {
    "name": "ipython",
    "version": 3
   },
   "file_extension": ".py",
   "mimetype": "text/x-python",
   "name": "python",
   "nbconvert_exporter": "python",
   "pygments_lexer": "ipython3",
   "version": "3.10.8"
  }
 },
 "nbformat": 4,
 "nbformat_minor": 5
}
